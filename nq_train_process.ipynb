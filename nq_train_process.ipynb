{
 "cells": [
  {
   "cell_type": "code",
   "execution_count": 130,
   "id": "9121a0a1-1029-4b91-b794-9cc6322e0ce5",
   "metadata": {},
   "outputs": [],
   "source": [
    "import pandas as pd\n",
    "from collections import defaultdict\n",
    "import os"
   ]
  },
  {
   "cell_type": "code",
   "execution_count": 1,
   "id": "b113c3b4-aef4-4c1c-8f62-f625052df872",
   "metadata": {},
   "outputs": [],
   "source": [
    "# read in NQ train\n",
    "# there is only ever 0 or 1 long_answers (I validated) which is the gold passage"
   ]
  },
  {
   "cell_type": "code",
   "execution_count": null,
   "id": "4ad93295-d28c-4266-86ee-b4413156e788",
   "metadata": {},
   "outputs": [],
   "source": [
    "# - Remove queries without relevant passage or where relevant passages map to tables etc\n",
    "# - Avoid two queries that map to the same Wikipedia page (based on the title) - Only use the first query that maps to a Wikipedia page."
   ]
  },
  {
   "cell_type": "code",
   "execution_count": 3,
   "id": "c00d97ee-a3a6-4d8b-b9a9-30248d3e58e8",
   "metadata": {},
   "outputs": [],
   "source": [
    "nq_raw = pd.read_json(\"nq_raw/train.jsonl\", lines=True)"
   ]
  },
  {
   "cell_type": "code",
   "execution_count": 72,
   "id": "1dfa301c-889f-4cd6-9094-aaa8628972d0",
   "metadata": {},
   "outputs": [],
   "source": [
    "# filter out all entries with no answer\n",
    "bool_long_answers = nq_raw[\"long_answers\"].map(bool)\n",
    "nq_answer_df = nq_raw[bool_long_answers.values]"
   ]
  },
  {
   "cell_type": "code",
   "execution_count": 73,
   "id": "17697436-edd9-44c6-84d7-b43396262b1e",
   "metadata": {},
   "outputs": [
    {
     "name": "stdout",
     "output_type": "stream",
     "text": [
      "Original: 307373\n",
      "Num queries removed: 174570 (56.794188168772145)%\n"
     ]
    }
   ],
   "source": [
    "removed = len(nq_raw) - len(nq_answer_df)\n",
    "print(f\"Original: {len(nq_raw)}\")\n",
    "print(f\"Num queries removed: {removed} ({removed/len(nq_raw)*100})%\")"
   ]
  },
  {
   "cell_type": "code",
   "execution_count": 74,
   "id": "71ca5426-d41d-45b6-a0db-95bef4471547",
   "metadata": {},
   "outputs": [],
   "source": [
    "nq_answer = nq_answer_df.T.to_dict()"
   ]
  },
  {
   "cell_type": "code",
   "execution_count": 117,
   "id": "256a499f-d844-44db-99bb-e9df6d3050a7",
   "metadata": {},
   "outputs": [],
   "source": [
    "table_answers = []\n",
    "corpus2id, queries2id = {}, {}\n",
    "qrels, corpus = [], []\n",
    "#count_list, count_text = 0, 0\n",
    "title2query = {} # for deduplication of queries that reference the same wiki article\n",
    "dup_titles_entries = []\n",
    "query2duplicate = defaultdict(list)"
   ]
  },
  {
   "cell_type": "code",
   "execution_count": 118,
   "id": "ce5977eb-caaa-4fa6-9e64-71afc005d82b",
   "metadata": {},
   "outputs": [],
   "source": [
    "for _, data in nq_answer.items():\n",
    "    query, passage_types = data[\"question\"], data[\"passage_types\"]\n",
    "    gold_idx = data[\"long_answers\"][0]\n",
    "    gold_id_type = passage_types[gold_idx]\n",
    "    # verification/cleaning checks\n",
    "    if gold_id_type == \"table\":\n",
    "        table_answers.append(data)\n",
    "        continue\n",
    "    if data[\"title\"] in title2query:\n",
    "        dup_titles_entries.append(data)\n",
    "        query2duplicate[title2query[data[\"title\"]]].append(query)\n",
    "        continue\n",
    "    title2query[data[\"title\"]] = query\n",
    "    gold_id_text = data[\"candidates\"][gold_idx]\n",
    "    if query not in queries2id:\n",
    "        queries2id[query] = f\"train{len(queries2id)}\"\n",
    "    for i, text in enumerate(data[\"candidates\"]):\n",
    "        if passage_types[i] == \"table\":\n",
    "            continue\n",
    "        if text not in corpus2id:\n",
    "            this_id = f\"doc{len(corpus2id)}\"\n",
    "            corpus2id[text] = this_id\n",
    "            corpus.append((this_id, data[\"title\"], text))\n",
    "    new_qrel = (queries2id[query], corpus2id[gold_id_text], 1)\n",
    "    qrels.append(new_qrel)"
   ]
  },
  {
   "cell_type": "code",
   "execution_count": 91,
   "id": "24442e60-4613-4655-98ae-38d10c0766c2",
   "metadata": {},
   "outputs": [
    {
     "name": "stdout",
     "output_type": "stream",
     "text": [
      "[('train110262', 'doc1736505', 1), ('train110263', 'doc1107361', 1), ('train110264', 'doc3348650', 1), ('train110265', 'doc352737', 1)]\n"
     ]
    }
   ],
   "source": [
    "print(qrels[-4:])\n"
   ]
  },
  {
   "cell_type": "code",
   "execution_count": 119,
   "id": "ef9f9318-a2cb-400a-9880-6047d6c917ff",
   "metadata": {},
   "outputs": [
    {
     "data": {
      "text/plain": [
       "(2692478, 2692478, 50142, 50142)"
      ]
     },
     "execution_count": 119,
     "metadata": {},
     "output_type": "execute_result"
    }
   ],
   "source": [
    "# preserved post filtering\n",
    "len(corpus2id), len(corpus), len(qrels), len(queries2id)"
   ]
  },
  {
   "cell_type": "code",
   "execution_count": 120,
   "id": "9e7ecc9d-b385-454b-957f-119581ace376",
   "metadata": {},
   "outputs": [
    {
     "data": {
      "text/plain": [
       "(60124, 22537)"
      ]
     },
     "execution_count": 120,
     "metadata": {},
     "output_type": "execute_result"
    }
   ],
   "source": [
    "# filtered out\n",
    "len(dup_titles_entries), len(table_answers)"
   ]
  },
  {
   "cell_type": "code",
   "execution_count": 127,
   "id": "a8696c92-16ed-463f-9fb7-de8be2f8ebec",
   "metadata": {},
   "outputs": [
    {
     "data": {
      "text/plain": [
       "[('where did the bald eagle get its name',\n",
       "  ['what is the national bird of the united states',\n",
       "   'what kind of bird is a bald eagle',\n",
       "   'when do bald eagles get their distinctive white head and tail feathers',\n",
       "   'where do bald eagles live in the united states',\n",
       "   'where do bald eagles live in the world',\n",
       "   'where are bald eagles found in the world',\n",
       "   'where do bald eagles live in the us',\n",
       "   'how many years can a bald eagle live',\n",
       "   'is the bald eagle a predator or prey']),\n",
       " ('who played the crooked man in the conjuring 2',\n",
       "  ['who played the nun in the conjuring two',\n",
       "   'does conjuring 2 take place before conjuring 1',\n",
       "   'what is the name of the nun in conjuring 2']),\n",
       " ('who plays little sweet on dr pepper commercial',\n",
       "  ['who plays lil sweet on the dr pepper commercial',\n",
       "   'who played lil sweet in the diet dr pepper commercial',\n",
       "   'who is in the diet dr. pepper commercial',\n",
       "   'who did kelly clarkson beat on american idol',\n",
       "   'who is the singer in diet dr pepper commercial',\n",
       "   'who is the guy in the diet dr pepper commercial 2015',\n",
       "   'who did kelly clarkson beat in american idol',\n",
       "   'who is the guy that does the diet dr. pepper commercial',\n",
       "   \"who's the guy that does the dr. pepper commercials\",\n",
       "   'who sings in the diet dr. pepper commercial',\n",
       "   'who is the guy singing in the diet dr pepper commercial',\n",
       "   'who plays little sweet on dr. pepper commercials',\n",
       "   'who plays little sweet in the dr. pepper commercials',\n",
       "   'who is the actor in the diet dr pepper commercial',\n",
       "   'who stars in the diet dr pepper commercial',\n",
       "   'who was runner up on american idol with kelly clarkson',\n",
       "   'who plays the little guy in the dr pepper commercial',\n",
       "   'who plays little sweet in the dr pepper commercials',\n",
       "   \"who's the guy that does the diet dr. pepper commercials\",\n",
       "   'who plays sweet in the dr pepper commercial']),\n",
       " ('where is the beach from chitty chitty bang bang',\n",
       "  ['who is the actor in chitty chitty bang bang',\n",
       "   'where was chitty chitty bang bang beach filmed',\n",
       "   'where did they film chitty chitty bang bang',\n",
       "   'where was the movie chitty chitty bang bang filmed',\n",
       "   'who is the toymaker in chitty chitty bang bang',\n",
       "   'where was the beach scene filmed in chitty chitty bang bang',\n",
       "   'who wrote music for chitty chitty bang bang',\n",
       "   'who wrote the music for chitty chitty bang bang',\n",
       "   'who played the boy in chitty chitty bang bang',\n",
       "   'who played in the movie chitty chitty bang bang',\n",
       "   'who is the female lead in chitty chitty bang bang',\n",
       "   'where was the beach scene in chitty chitty bang bang filmed',\n",
       "   'is chitty chitty bang bang just a story',\n",
       "   'who did barbara windsor play in chitty chitty bang bang',\n",
       "   'who played the part of mr potts in chitty chitty bang bang',\n",
       "   'where was the film chitty chitty bang bang filmed',\n",
       "   'who plays the toymaker in chitty chitty bang bang',\n",
       "   'who is the cast of chitty chitty bang bang',\n",
       "   'who played jeremy in chitty chitty bang bang',\n",
       "   'where was chitty chitty bang bang filmed beach',\n",
       "   'where were the beach scenes in chitty chitty bang bang filmed']),\n",
       " ('who needed the heart in the wizard of oz',\n",
       "  ['in the wizard of oz who didn have a heart',\n",
       "   'who wanted the heart in the wizard of oz',\n",
       "   'who wanted a heart in the wizard of oz',\n",
       "   \"which wizard of oz character didn't have a heart\",\n",
       "   'what did the tim man ask the wizard of oz for',\n",
       "   'who needs a heart in the wizard of oz',\n",
       "   'name of the tin man in wizard of oz',\n",
       "   \"who doesn't have a heart in the wizard of oz\",\n",
       "   'the wizard of oz what did the tin man want',\n",
       "   'who was looking for a heart in the wizard of oz',\n",
       "   'who in wizard of oz needed a heart',\n",
       "   'who had no heart in wizard of oz',\n",
       "   'who needed a heart in wizard of oz',\n",
       "   'what did the tin man want in the wizard of oz',\n",
       "   \"who doesn't have a heart in wizard of oz\"])]"
      ]
     },
     "execution_count": 127,
     "metadata": {},
     "output_type": "execute_result"
    }
   ],
   "source": [
    "list(query2duplicate.items())[5:10]"
   ]
  },
  {
   "cell_type": "code",
   "execution_count": 129,
   "id": "711adc8e-c0cf-435b-8245-f2914f0830b0",
   "metadata": {},
   "outputs": [],
   "source": [
    "# save qrels, corpus, queries, and print stats\n",
    "qrels_cols, queries_cols, corpus_cols = [\"query-id\", \"corpus-id\", \"score\"], [\"_id\", \"text\"], [\"_id\", \"title\", \"text\"]\n",
    "qrels_df = pd.DataFrame(data=qrels, columns=qrels_cols)\n",
    "corpus_df = pd.DataFrame(data=corpus, columns=corpus_cols)\n",
    "queries_df = pd.DataFrame(data=[(i, text) for text, i in queries2id.items()], columns=queries_cols)\n"
   ]
  },
  {
   "cell_type": "code",
   "execution_count": 136,
   "id": "7bb18852-757e-41ca-922d-0f7b4f3d7e98",
   "metadata": {},
   "outputs": [
    {
     "data": {
      "text/html": [
       "<div>\n",
       "<style scoped>\n",
       "    .dataframe tbody tr th:only-of-type {\n",
       "        vertical-align: middle;\n",
       "    }\n",
       "\n",
       "    .dataframe tbody tr th {\n",
       "        vertical-align: top;\n",
       "    }\n",
       "\n",
       "    .dataframe thead th {\n",
       "        text-align: right;\n",
       "    }\n",
       "</style>\n",
       "<table border=\"1\" class=\"dataframe\">\n",
       "  <thead>\n",
       "    <tr style=\"text-align: right;\">\n",
       "      <th></th>\n",
       "      <th>query-id</th>\n",
       "      <th>corpus-id</th>\n",
       "      <th>score</th>\n",
       "    </tr>\n",
       "  </thead>\n",
       "  <tbody>\n",
       "    <tr>\n",
       "      <th>0</th>\n",
       "      <td>train0</td>\n",
       "      <td>doc49</td>\n",
       "      <td>1</td>\n",
       "    </tr>\n",
       "    <tr>\n",
       "      <th>1</th>\n",
       "      <td>train1</td>\n",
       "      <td>doc482</td>\n",
       "      <td>1</td>\n",
       "    </tr>\n",
       "    <tr>\n",
       "      <th>2</th>\n",
       "      <td>train2</td>\n",
       "      <td>doc515</td>\n",
       "      <td>1</td>\n",
       "    </tr>\n",
       "    <tr>\n",
       "      <th>3</th>\n",
       "      <td>train3</td>\n",
       "      <td>doc556</td>\n",
       "      <td>1</td>\n",
       "    </tr>\n",
       "    <tr>\n",
       "      <th>4</th>\n",
       "      <td>train4</td>\n",
       "      <td>doc582</td>\n",
       "      <td>1</td>\n",
       "    </tr>\n",
       "    <tr>\n",
       "      <th>...</th>\n",
       "      <td>...</td>\n",
       "      <td>...</td>\n",
       "      <td>...</td>\n",
       "    </tr>\n",
       "    <tr>\n",
       "      <th>50137</th>\n",
       "      <td>train50137</td>\n",
       "      <td>doc2692198</td>\n",
       "      <td>1</td>\n",
       "    </tr>\n",
       "    <tr>\n",
       "      <th>50138</th>\n",
       "      <td>train50138</td>\n",
       "      <td>doc2692203</td>\n",
       "      <td>1</td>\n",
       "    </tr>\n",
       "    <tr>\n",
       "      <th>50139</th>\n",
       "      <td>train50139</td>\n",
       "      <td>doc2692231</td>\n",
       "      <td>1</td>\n",
       "    </tr>\n",
       "    <tr>\n",
       "      <th>50140</th>\n",
       "      <td>train50140</td>\n",
       "      <td>doc2692395</td>\n",
       "      <td>1</td>\n",
       "    </tr>\n",
       "    <tr>\n",
       "      <th>50141</th>\n",
       "      <td>train50141</td>\n",
       "      <td>doc2692464</td>\n",
       "      <td>1</td>\n",
       "    </tr>\n",
       "  </tbody>\n",
       "</table>\n",
       "<p>50142 rows × 3 columns</p>\n",
       "</div>"
      ],
      "text/plain": [
       "         query-id   corpus-id  score\n",
       "0          train0       doc49      1\n",
       "1          train1      doc482      1\n",
       "2          train2      doc515      1\n",
       "3          train3      doc556      1\n",
       "4          train4      doc582      1\n",
       "...           ...         ...    ...\n",
       "50137  train50137  doc2692198      1\n",
       "50138  train50138  doc2692203      1\n",
       "50139  train50139  doc2692231      1\n",
       "50140  train50140  doc2692395      1\n",
       "50141  train50141  doc2692464      1\n",
       "\n",
       "[50142 rows x 3 columns]"
      ]
     },
     "execution_count": 136,
     "metadata": {},
     "output_type": "execute_result"
    }
   ],
   "source": [
    "qrels_df"
   ]
  },
  {
   "cell_type": "code",
   "execution_count": 138,
   "id": "1046b662-c95a-4fcf-87aa-90ac4676c7ea",
   "metadata": {},
   "outputs": [],
   "source": [
    "base = \"beir/nq-train-new/\"\n",
    "os.makedirs(base+\"qrels\", exist_ok=True)\n",
    "qrels_df.to_csv(base+\"qrels/test.tsv\", sep='\\t', columns=qrels_cols, index=False)\n",
    "corpus_df.to_json(base+\"corpus.jsonl\", lines=True, orient=\"records\")\n",
    "queries_df.to_json(base+\"queries.jsonl\", lines=True, orient=\"records\")"
   ]
  },
  {
   "cell_type": "code",
   "execution_count": 18,
   "id": "1ebe6b09-f2d5-4566-a357-51ec8e637128",
   "metadata": {},
   "outputs": [
    {
     "data": {
      "text/plain": [
       "array(['who elects the senators and house of representatives'],\n",
       "      dtype=object)"
      ]
     },
     "execution_count": 18,
     "metadata": {},
     "output_type": "execute_result"
    }
   ],
   "source": [
    "y[\"question\"].values"
   ]
  },
  {
   "cell_type": "code",
   "execution_count": 20,
   "id": "5228ad1b-fe45-42c2-866c-fb6c9430059a",
   "metadata": {},
   "outputs": [
    {
     "name": "stdout",
     "output_type": "stream",
     "text": [
      "535 voting members\n",
      "The United States Congress is the bicameral legislature of the federal government of the United States consisting of two chambers: the Senate and the House of Representatives.\n",
      "The Congress meets in the Capitol in Washington, D.C. Both senators and representatives are chosen through direct election, though vacancies in the Senate may be filled by a gubernatorial appointment. Congress has 535 voting members: 435 Representatives and 100 Senators. The House of Representatives has six non-voting members in addition to its 435 voting members. These members can, however, sit on congressional committees and introduce legislation. These members represent Puerto Rico, American Samoa, Guam, the Northern Mariana Islands, the U.S. Virgin Islands, and Washington, D.C.\n",
      "The members of the House of Representatives serve two-year terms representing the people of a single constituency, known as a \"district\". Congressional districts are apportioned to states by population using the United States Census results, provided that each state has at least one congressional representative. Each state, regardless of population or size, has two senators. Currently, there are 100 senators representing the 50 states. Each senator is elected at-large in their state for a six-year term, with terms staggered, so every two years approximately one-third of the Senate is up for election.\n",
      "To be eligible for election, a candidate must be aged at least 25 (House) or 30 (Senate), have been a citizen of the United States for seven (House) or nine (Senate) years, and be an inhabitant of the state of which they represent.\n",
      "The Congress was created by the Constitution of the United States and first met in 1789, replacing in its legislative function the Congress of the Confederation. Although not constitutionally mandated, in practice since the 19th century, Congress members are typically affiliated to the Republican Party or to the Democratic Party and only rarely to a third party or as independents.\n",
      "Article One of the United States Constitution states, \"All legislative Powers herein granted shall be vested in a Congress of the United States, which shall consist of a Senate and House of Representatives.\" The House and Senate are equal partners in the legislative processâ€”legislation cannot be enacted without the consent of both chambers. However, the Constitution grants each chamber some unique powers. The Senate ratifies treaties and approves presidential appointments while the House initiates revenue-raising bills. The House initiates impeachment cases, while the Senate decides impeachment cases.[1] A two-thirds vote of the Senate is required before an impeached person can be forcibly removed from office.[1]\n",
      "The term Congress can also refer to a particular meeting of the legislature. A Congress covers two years; the current one, the 115th Congress, began on January 3, 2017, and will end on January 3, 2019. The Congress starts and ends on the third day of January of every odd-numbered year. Members of the Senate are referred to as senators; members of the House of Representatives are referred to as representatives, congressmen, or congresswomen.\n",
      "Scholar and representative Lee H. Hamilton asserted that the \"historic mission of Congress has been to maintain freedom\" and insisted it was a \"driving force in American government\"[2] and a \"remarkably resilient institution\".[3] Congress is the \"heart and soul of our democracy\", according to this view,[4] even though legislators rarely achieve the prestige or name recognition of presidents or Supreme Court justices; one wrote that \"legislators remain ghosts in America's historical imagination\".[4] One analyst argues that it is not a solely reactive institution but has played an active role in shaping government policy and is extraordinarily sensitive to public pressure.[4] Several academics described Congress:\n",
      "Congress reflects us in all our strengths and all our weaknesses. It reflects our regional idiosyncrasies, our ethnic, religious, and racial diversity, our multitude of professions, and our shadings of opinion on everything from the value of war to the war over values. Congress is the government's most representative body ... Congress is essentially charged with reconciling our many points of view on the great public policy issues of the day.\n",
      "Congress is constantly changing and is constantly in flux.[5] In recent times, the American south and west have gained House seats according to demographic changes recorded by the census and includes more minorities and women although both groups are still underrepresented, according to one view.[5] While power balances among the different parts of government continue to change, the internal structure of Congress is important to understand along with its interactions with so-called intermediary institutions such as political parties, civic associations, interest groups, and the mass media.[4]\n",
      "The Congress of the United States serves two distinct purposes that overlap: local representation to the federal government of a congressional district by representatives and a state's at-large representation to the federal government by senators.\n",
      "Most incumbents seek re-election, and their historical likelihood of winning subsequent elections exceeds 90 percent.[6]\n",
      "The historical records of the House of Representatives and the Senate are maintained by the Center for Legislative Archives, which is a part of the National Archives and Records Administration.[7]\n",
      "Congress is directly responsible for the governing of the District of Columbia, the current seat of the federal government.\n",
      "The First Continental Congress was a gathering of representatives from twelve of the thirteen British Colonies in North America.[8] On July 4, 1776, the Second Continental Congress adopted the Declaration of Independence, referring to the new nation as the \"United States of America\". The Articles of Confederation in 1781 created the Congress of the Confederation, a unicameral body with equal representation among the states in which each state had a veto over most decisions. Congress had executive but not legislative authority, and the federal judiciary was confined to admiralty.[9] and lacked authority to collect taxes, regulate commerce, or enforce laws.[10][11]\n",
      "Government powerlessness led to the Convention of 1787 which proposed a revised constitution with a two–chamber or bicameral congress.[12] Smaller states argued for equal representation for each state.[13] The two-chamber structure had functioned well in state governments.[14] A compromise plan was adopted with representatives chosen by population (benefiting larger states) and exactly two senators chosen by state governments (benefiting smaller states).[5][15] The ratified constitution created a federal structure with two overlapping power centers so that each citizen as an individual was subjected to both the power of state government and the national government.[16][17][18] To protect against abuse of power, each branch of government—executive, legislative, and judicial—had a separate sphere of authority and could check other branches according to the principle of the separation of powers.[1] Furthermore, there were checks and balances within the legislature since there were two separate chambers.[19] The new government became active in 1789.[1][20]\n",
      "Political scientist Julian E. Zelizer suggested there were four main congressional eras, with considerable overlap, and included the formative era (1780s–1820s), the partisan era (1830s–1900s), the committee era (1910s–1960s), and the contemporary era (1970s–today).[21]\n",
      "Federalists and anti-federalists jostled for power in the early years as political parties became pronounced, surprising the Constitution's Founding Fathers of the United States. With the passage of the Constitution and the Bill of Rights, the Anti-Federalist movement was exhausted. Some activists joined the Anti-Administration Party that James Madison and Thomas Jefferson were forming about 1790â€“91 to oppose policies of Treasury Secretary Alexander Hamilton; it soon became the Democratic-Republican Party or the Jeffersonian Democrat Party and began the era of the First Party System. Thomas Jefferson's election to the presidency marked a peaceful transition of power between the parties in 1800. John Marshall, 4th Chief Justice of the Supreme Court empowered the courts by establishing the principle of judicial review in law in the landmark case Marbury v. Madison in 1803, effectively giving the Supreme Court a power to nullify congressional legislation.\n",
      "These years were marked by growth in the power of political parties. The watershed event was the Civil War which resolved the slavery issue and unified the nation under federal authority, but weakened the power of states rights. The Gilded Age (1877â€“1901) was marked by Republican dominance of Congress. During this time, lobbying activity became more intense, particularly during the administration of President Ulysses S. Grant in which influential lobbies advocated for railroad subsidies and tariffs on wool.[22] Immigration and high birth rates swelled the ranks of citizens and the nation grew at a rapid pace. The Progressive Era was characterized by strong party leadership in both houses of Congress as well as calls for reform; sometimes reformers would attack lobbyists as corrupting politics.[23] The position of Speaker of the House became extremely powerful under leaders such as Thomas Reed in 1890 and Joseph Gurney Cannon. The Senate was effectively controlled by a half dozen men.\n",
      "A system of seniority—in which long-time Members of Congress gained more and more power—encouraged politicians of both parties to serve for long terms. Committee chairmen remained influential in both houses until the reforms of the 1970s.\n",
      "Important structural changes included the direct election of senators by popular election according to the Seventeenth Amendment[15] , ratified in April 8, 1913, with positive effects (senators more sensitive to public opinion) and negative effects (undermining the authority of state governments).[15] Supreme Court decisions based on the Constitution's commerce clause expanded congressional power to regulate the economy.[24] One effect of popular election of senators was to reduce the difference between the House and Senate in terms of their link to the electorate.[25] Lame duck reforms according to the Twentieth Amendment ended the power of defeated and retiring members of Congress to wield influence despite their lack of accountability.[26]\n",
      "The Great Depression ushered in President Franklin Roosevelt and strong control by Democrats[27] and historic New Deal policies. Roosevelt's election in 1932 marked a shift in government power towards the executive branch. Numerous New Deal initiatives came from the White House rather than being initiated by Congress.[28] The Democratic Party controlled both houses of Congress for many years.[29][30][31] During this time, Republicans and conservative southern Democrats[32] formed the Conservative Coalition.[31][33] Democrats maintained control of Congress during World War II.[34][35] Congress struggled with efficiency in the postwar era partly by reducing the number of standing congressional committees.[36] Southern Democrats became a powerful force in many influential committees although political power alternated between Republicans and Democrats during these years. More complex issues required greater specialization and expertise, such as space flight and atomic energy policy.[36] Senator Joseph McCarthy exploited the fear of communism and conducted televised hearings.[37][38] In 1960, Democratic candidate John F. Kennedy narrowly won the presidency and power shifted again to the Democrats who dominated both houses of Congress until 1994.\n",
      "Congress enacted Johnson's Great Society program to fight poverty and hunger. The Watergate Scandal had a powerful effect of waking up a somewhat dormant Congress which investigated presidential wrongdoing and coverups; the scandal \"substantially reshaped\" relations between the branches of government, suggested political scientist Bruce J. Schulman.[40] Partisanship returned, particularly after 1994; one analyst attributes partisan infighting to slim congressional majorities which discouraged friendly social gatherings in meeting rooms such as the Board of Education.[4] Congress began reasserting its authority.[28][41] Lobbying became a big factor despite the 1971 Federal Election Campaign Act. Political action committees or PACs could make substantive donations to congressional candidates via such means as soft money contributions.[42] While soft money funds were not given to specific campaigns for candidates, the money often benefited candidates substantially in an indirect way and helped reelect candidates.[42] Reforms such as the 2002 McCain-Feingold act limited campaign donations but did not limit soft money contributions.[43] One source suggests post-Watergate laws amended in 1974 meant to reduce the \"influence of wealthy contributors and end payoffs\" instead \"legitimized PACs\" since they \"enabled individuals to band together in support of candidates\".[44] From 1974 to 1984, PACs grew from 608 to 3,803 and donations leaped from $12.5 million to $120 million[44][45][46] along with concern over PAC influence in Congress.[47][48] In 2009, there were 4,600 business, labor and special-interest PACs[49] including ones for lawyers, electricians, and real estate brokers.[50] From 2007 to 2008, 175 members of Congress received \"half or more of their campaign cash\" from PACs.[49][51][52]\n",
      "From 1970 to 2009, the House expanded delegates, along with their powers and privileges representing U.S. citizens in non-state areas, beginning with representation on committees for Puerto Rico's Resident Commissioner in 1970. In 1971, a delegate for the District of Columbia was authorized, and in 1972 new delegate positions were established for U.S. Virgin Islands and Guam. 1978 saw an additional delegate for American Samoa, and another for the Commonwealth of the Northern Mariana Islands began in 2009. These six Members of Congress enjoy floor privileges to introduce bills and resolutions, and in recent congresses they vote in permanent and select committees, in party caucuses and in joint conferences with the Senate. They have Capitol Hill offices, staff and two annual appointments to each of the four military academies. While their votes are constitutional when Congress authorizes their House Committee of the Whole votes, recent Congresses have not allowed for that, and they cannot vote when the House is meeting as the House of Representatives.[53]\n",
      "In the late 20th century, the media became more important in Congress's work.[54] Analyst Michael Schudson suggested that greater publicity undermined the power of political parties and caused \"more roads to open up in Congress for individual representatives to influence decisions\".[54] Norman Ornstein suggested that media prominence led to a greater emphasis on the negative and sensational side of Congress, and referred to this as the tabloidization of media coverage.[5] Others saw pressure to squeeze a political position into a thirty-second soundbite.[55] A report characterized Congress in 2013 as being unproductive, gridlocked, and \"setting records for futility\".[56] In October 2013, with Congress unable to compromise, the government was shut down for several weeks and risked a serious default on debt payments, causing 60% of the public to say they would \"fire every member of Congress\" including their own representative.[57] One report suggested Congress posed the \"biggest risk to the US economy\" because of its brinksmanship, \"down-to-the-wire budget and debt crises\" and \"indiscriminate spending cuts\", resulting in slowed economic activity and keeping up to two million people unemployed.[58] There has been increasing public dissatisfaction with Congress,[59] with extremely low approval ratings[60][61] which dropped to 5% in October 2013.[62]\n",
      "Article I of the Constitution creates and sets forth the structure and most of the powers of Congress. Sections One through Six describe how Congress is elected and gives each House the power to create its own structure. Section Seven lays out the process for creating laws, and Section Eight enumerates numerous powers. Section Nine is a list of powers Congress does not have, and Section Ten enumerates powers of the state, some of which may only be granted by Congress.[63] Constitutional amendments have granted Congress additional powers. Congress also has implied powers derived from the Constitution's Necessary and Proper Clause.\n",
      "Congress has authority over financial and budgetary policy through the enumerated power to \"lay and collect Taxes, Duties, Imposts and Excises, to pay the Debts and provide for the common Defence and general Welfare of the United States\". There is vast authority over budgets, although analyst Eric Patashnik suggested that much of Congress's power to manage the budget has been lost when the welfare state expanded since \"entitlements were institutionally detached from Congress's ordinary legislative routine and rhythm\".[64] Another factor leading to less control over the budget was a Keynesian belief that balanced budgets were unnecessary.[64]\n",
      "The Sixteenth Amendment in 1913 extended congressional power of taxation to include income taxes without apportionment among the several States, and without regard to any census or enumeration.[65] The Constitution also grants Congress the exclusive power to appropriate funds, and this power of the purse is one of Congress's primary checks on the executive branch.[65] Congress can borrow money on the credit of the United States, regulate commerce with foreign nations and among the states, and coin money.[66] Generally, both the Senate and the House of Representatives have equal legislative authority, although only the House may originate revenue and appropriation bills.[1]\n",
      "Congress has an important role in national defense, including the exclusive power to declare war, to raise and maintain the armed forces, and to make rules for the military.[67] Some critics charge that the executive branch has usurped Congress's constitutionally defined task of declaring war.[68] While historically presidents initiated the process for going to war, they asked for and received formal war declarations from Congress for the War of 1812, the Mexican–American War, the Spanish–American War, World War I, and World War II,[69] although President Theodore Roosevelt's military move into Panama in 1903 did not get congressional approval.[69] In the early days after the North Korean invasion of 1950, President Truman described the American response as a \"police action\".[70] According to Time magazine in 1970, \"U.S. presidents [had] ordered troops into position or action without a formal congressional declaration a total of 149 times.\"[69] In 1993, Michael Kinsley wrote that \"Congress's war power has become the most flagrantly disregarded provision in the Constitution,\" and that the \"real erosion [of Congress's war power] began after World War II.\"[71][72][73] Disagreement about the extent of congressional versus presidential power regarding war has been present periodically throughout the nation's history.\"[74]\n",
      "Congress can establish post offices and post roads, issue patents and copyrights, fix standards of weights and measures, establish Courts inferior to the Supreme Court, and \"make all Laws which shall be necessary and proper for carrying into Execution the foregoing Powers, and all other Powers vested by this Constitution in the Government of the United States, or in any Department or Officer thereof.\" Article Four gives Congress the power to admit new states into the Union.\n",
      "One of Congress's foremost non-legislative functions is the power to investigate and oversee the executive branch.[75] Congressional oversight is usually delegated to committees and is facilitated by Congress's subpoena power.[76] Some critics have charged that Congress has in some instances failed to do an adequate job of overseeing the other branches of government. In the Plame affair, critics including Representative Henry A. Waxman charged that Congress was not doing an adequate job of oversight in this case.[77] There have been concerns about congressional oversight of executive actions such as warrantless wiretapping, although others respond that Congress did investigate the legality of presidential decisions.[78] Political scientists Ornstein and Mann suggested that oversight functions do not help members of Congress win reelection. Congress also has the exclusive power of removal, allowing impeachment and removal of the president, federal judges and other federal officers.[79] There have been charges that presidents acting under the doctrine of the unitary executive have assumed important legislative and budgetary powers that should belong to Congress.[80] So-called signing statements are one way in which a president can \"tip the balance of power between Congress and the White House a little more in favor of the executive branch,\" according to one account.[81] Past presidents, including Ronald Reagan, George H. W. Bush, Bill Clinton, and George W. Bush[82] have made public statements when signing congressional legislation about how they understand a bill or plan to execute it, and commentators including the American Bar Association have described this practice as against the spirit of the Constitution.[83][84] There have been concerns that presidential authority to cope with financial crises is eclipsing the power of Congress.[85] In 2008, George F. Will called the Capitol building a \"tomb for the antiquated idea that the legislative branch matters.\"[86]\n",
      "The Constitution enumerates the powers of Congress in detail. In addition, other congressional powers have been granted, or confirmed, by constitutional amendments. The Thirteenth (1865), Fourteenth (1868), and Fifteenth Amendments (1870) gave Congress authority to enact legislation to enforce rights of African Americans, including voting rights, due process, and equal protection under the law.[87] Generally militia forces are controlled by state governments, not Congress.[88]\n",
      "Congress also has implied powers deriving from the Constitution's Necessary and Proper Clause which permit Congress to \"make all Laws which shall be necessary and proper for carrying into Execution the foregoing Powers, and all other Powers vested by this Constitution in the Government of the United States, or in any Department or Officer thereof.\"[89] Broad interpretations of this clause and of the Commerce Clause, the enumerated power to regulate commerce, in rulings such as McCulloch v Maryland, have effectively widened the scope of Congress's legislative authority far beyond that prescribed in Section 8.[90][91]\n",
      "Constitutional responsibility for the oversight of Washington, D.C., the federal district and national capital and the U.S. territories of Guam, American Samoa, Puerto Rico, the U.S. Virgin Islands, and the Northern Mariana Islands rests with Congress.[92] The republican form of government in territories is devolved by Congressional statute to the respective territories including direct election of governors, the D.C. mayor and locally elective territorial legislatures.[93]\n",
      "Each territory and Washington, D.C. elect a non-voting delegate to the U.S. House of Representatives as they have throughout Congressional history. They \"\n",
      "Washington, D.C. citizens alone among U.S. territories have the right to directly vote for the President of the United States, although the Democratic and Republican political parties nominate their presidential candidates at national conventions which include delegates from the five major territories.[95]\n",
      "Representative Lee H. Hamilton explained how Congress functions within the federal government:\n",
      "To me the key to understanding it is balance. The founders went to great lengths to balance institutions against each otherâ€”balancing powers among the three branches: Congress, the president, and the Supreme Court; between the House of Representatives and the Senate; between the federal government and the states; among states of different sizes and regions with different interests; between the powers of government and the rights of citizens, as spelled out in the Bill of Rights ... No one part of government dominates the other.[2]:6\n",
      "The Constitution provides checks and balances among the three branches of the federal government. Its authors expected the greater power to lie with Congress as described in Article One.[2][96]\n",
      "The influence of Congress on the presidency has varied from period to period depending on factors such as congressional leadership, presidential political influence, historical circumstances such as war, and individual initiative by members of Congress. The impeachment of Andrew Johnson made the presidency less powerful than Congress for a considerable period afterwards.[97] The 20th and 21st centuries have seen the rise of presidential power under politicians such as Theodore Roosevelt, Woodrow Wilson, Franklin D. Roosevelt, Richard Nixon, Ronald Reagan, and George W. Bush.[98] However, in recent years, Congress has restricted presidential power with laws such as the Congressional Budget and Impoundment Control Act of 1974 and the War Powers Resolution. Nevertheless, the Presidency remains considerably more powerful today than during the 19th century.[2][98] Executive branch officials are often loath to reveal sensitive information to members of Congress because of concern that information could not be kept secret; in return, knowing they may be in the dark about executive branch activity, congressional officials are more likely to distrust their counterparts in executive agencies.[99] Many government actions require fast coordinated effort by many agencies, and this is a task that Congress is ill-suited for. Congress is slow, open, divided, and not well matched to handle more rapid executive action or do a good job of overseeing such activity, according to one analysis.[100]\n",
      "The Constitution concentrates removal powers in the Congress by empowering and obligating the House of Representatives to impeach both executive and judicial officials for \"Treason, Bribery, or other high Crimes and Misdemeanors.\" Impeachment is a formal accusation of unlawful activity by a civil officer or government official. The Senate is constitutionally empowered and obligated to try all impeachments. A simple majority in the House is required to impeach an official; however, a two-thirds majority in the Senate is required for conviction. A convicted official is automatically removed from office; in addition, the Senate may stipulate that the defendant be banned from holding office in the future. Impeachment proceedings may not inflict more than this; however, a convicted party may face criminal penalties in a normal court of law. In the history of the United States, the House of Representatives has impeached sixteen officials, of whom seven were convicted. Another resigned before the Senate could complete the trial. Only two presidents have ever been impeached: Andrew Johnson in 1868 and Bill Clinton in 1999. Both trials ended in acquittal; in Johnson's case, the Senate fell one vote short of the two-thirds majority required for conviction. In 1974, Richard Nixon resigned from office after impeachment proceedings in the House Judiciary Committee indicated he would eventually be removed from office.\n",
      "The Senate has an important check on the executive power by confirming Cabinet officials, judges, and other high officers \"by and with the Advice and Consent of the Senate.\" It confirms most presidential nominees but rejections are not uncommon. Furthermore, treaties negotiated by the President must be ratified by a two-thirds majority vote in the Senate to take effect. As a result, presidential arm-twisting of senators can happen before a key vote; for example, President Obama's secretary of state, Hillary Clinton, urged her former senate colleagues to approve a nuclear arms treaty with Russia in 2010.[101] The House of Representatives has no formal role in either the ratification of treaties or the appointment of federal officials, other than in filling a vacancy in the office of the vice president; in such a case, a majority vote in each House is required to confirm a president's nomination of a vice president.[1]\n",
      "In 1803, the Supreme Court established judicial review of federal legislation in Marbury v. Madison, holding, however, that Congress could not grant unconstitutional power to the Court itself. The Constitution does not explicitly state that the courts may exercise judicial review; however, the notion that courts could declare laws unconstitutional was envisioned by the founding fathers. Alexander Hamilton, for example, mentioned and expounded upon the doctrine in Federalist No. 78. Originalists on the Supreme Court have argued that if the constitution does not say something explicitly it is unconstitutional to infer what it should, might or could have said.[102] Judicial review means that the Supreme Court can nullify a congressional law. It is a huge check by the courts on the legislative authority and limits congressional power substantially. In 1857, for example, the Supreme Court struck down provisions of a congressional act of 1820 in its Dred Scott decision.[103] At the same time, the Supreme Court can extend congressional power through its constitutional interpretations.\n",
      "Investigations are conducted to gather information on the need for future legislation, to test the effectiveness of laws already passed, and to inquire into the qualifications and performance of members and officials of the other branches. Committees may hold hearings, and, if necessary, compel individuals to testify when investigating issues over which it has the power to legislate by issuing subpoenas.[104][105] Witnesses who refuse to testify may be cited for contempt of Congress, and those who testify falsely may be charged with perjury. Most committee hearings are open to the public (the House and Senate intelligence committees are the exception); important hearings are widely reported in the mass media and transcripts published a few months afterwards.[105] Congress, in the course of studying possible laws and investigating matters, generates an incredible amount of information in various forms, and can be described as a publisher.[106] Indeed, it publishes House and Senate reports[106] and maintains databases which are updated irregularly with publications in a variety of electronic formats.[106]\n",
      "Congress also plays a role in presidential elections. Both Houses meet in joint session on the sixth day of January following a presidential election to count the electoral votes, and there are procedures to follow if no candidate wins a majority.[1]\n",
      "The main result of congressional activity is the creation of laws,[107] most of which are contained in the United States Code, arranged by subject matter alphabetically under fifty title headings to present the laws \"in a concise and usable form\".[1]\n",
      "Congress is split into two chambers—House and Senate—and manages the task of writing national legislation by dividing work into separate committees which specialize in different areas. Some members of Congress are elected by their peers to be officers of these committees. Further, Congress has ancillary organizations such as the Government Accountability Office and the Library of Congress to help provide it with information, and members of Congress have staff and offices to assist them as well. In addition, a vast industry of lobbyists helps members write legislation on behalf of diverse corporate and labor interests.\n",
      "The committee structure permits members of Congress to study a particular subject intensely. It is neither expected nor possible that a member be an expert on all subject areas before Congress.[108] As time goes by, members develop expertise in particular subjects and their legal aspects. Committees investigate specialized subjects and advise the entire Congress about choices and trade-offs. The choice of specialty may be influenced by the member's constituency, important regional issues, prior background and experience.[109] Senators often choose a different specialty from that of the other senator from their state to prevent overlap.[110] Some committees specialize in running the business of other committees and exert a powerful influence over all legislation; for example, the House Ways and Means Committee has considerable influence over House affairs.[111]\n",
      "Committees write legislation. While procedures such as the House discharge petition process can introduce bills to the House floor and effectively bypass committee input, they are exceedingly difficult to implement without committee action. Committees have power and have been called independent fiefdoms. Legislative, oversight, and internal administrative tasks are divided among about two hundred committees and subcommittees which gather information, evaluate alternatives, and identify problems.[112] They propose solutions for consideration by the full chamber.[112] In addition, they perform the function of oversight by monitoring the executive branch and investigating wrongdoing.[112]\n",
      "At the start of each two-year session the House elects a speaker who does not normally preside over debates but serves as the majority party's leader. In the Senate, the Vice President is the ex officio president of the Senate. In addition, the Senate elects an officer called the President pro tempore. Pro tempore means for the time being and this office is usually held by the most senior member of the Senate's majority party and customarily keeps this position until there's a change in party control. Accordingly, the Senate does not necessarily elect a new president pro tempore at the beginning of a new Congress. In both the House and Senate, the actual presiding officer is generally a junior member of the majority party who is appointed so that new members become acquainted with the rules of the chamber.\n",
      "The Library of Congress was established by an act of Congress in 1800. It is primarily housed in three buildings on Capitol Hill, but also includes several other sites: the National Library Service for the Blind and Physically Handicapped in Washington, D.C.; the National Audio-Visual Conservation Center in Culpeper, Virginia; a large book storage facility located at Ft. Meade, Maryland; and multiple overseas offices. The Library had mostly law books when it was burned by a British raiding party during the War of 1812, but the library's collections were restored and expanded when Congress authorized the purchase of Thomas Jefferson's private library. One of the Library's missions is to serve the Congress and its staff as well as the American public. It is the largest library in the world with nearly 150 million items including books, films, maps, photographs, music, manuscripts, graphics, and materials in 470 languages.[113]\n",
      "The Congressional Research Service provides detailed, up-to-date and non-partisan research for senators, representatives, and their staff to help them carry out their official duties. It provides ideas for legislation, helps members analyze a bill, facilitates public hearings, makes reports, consults on matters such as parliamentary procedure, and helps the two chambers resolve disagreements. It has been called the \"House's think tank\" and has a staff of about 900 employees.[114]\n",
      "The Congressional Budget Office or CBO is a federal agency which provides economic data to Congress.[115]\n",
      "It was created as an independent nonpartisan agency by the Congressional Budget and Impoundment Control Act of 1974. It helps Congress estimate revenue inflows from taxes and helps the budgeting process. It makes projections about such matters as the national debt[116] as well as likely costs of legislation. It prepares an annual Economic and Budget Outlook with a mid-year update and writes An Analysis of the President's Budgetary Proposals for the Senate's Appropriations Committee. The Speaker of the House and the Senate's President pro tempore jointly appoint the CBO Director for a four-year term.\n",
      "Lobbyists represent diverse interests and often seek to influence congressional decisions to reflect their clients' needs. Lobby groups and their members sometimes write legislation and whip bills. In 2007 there were approximately 17,000 federal lobbyists in Washington.[117] They explain to legislators the goals of their organizations. Some lobbyists represent non-profit organizations and work pro bono for issues in which they are personally interested.\n",
      "Congress has alternated between periods of constructive cooperation and compromise between parties known as bipartisanship and periods of deep political polarization and fierce infighting known as partisanship. The period after the Civil War was marked by partisanship as is the case today. It is generally easier for committees to reach accord on issues when compromise is possible. Some political scientists speculate that a prolonged period marked by narrow majorities in both chambers of Congress has intensified partisanship in the last few decades but that an alternation of control of Congress between Democrats and Republicans may lead to greater flexibility in policies as well as pragmatism and civility within the institution.[118]\n",
      "A term of Congress is divided into two \"sessions\", one for each year; Congress has occasionally been called into an extra or special session. A new session commences on January 3 each year unless Congress decides differently. The Constitution requires Congress meet at least once each year and forbids either house from meeting outside the Capitol without the consent of the other house.\n",
      "Joint Sessions of the United States Congress occur on special occasions that require a concurrent resolution from both House and Senate. These sessions include counting electoral votes after a presidential election and the president's State of the Union address. The constitutionally-mandated report, normally given as an annual speech, is modeled on Britain's Speech from the Throne, was written by most presidents after Jefferson but personally delivered as a spoken oration beginning with Wilson in 1913. Joint Sessions and Joint Meetings are traditionally presided over by the Speaker of the House except when counting presidential electoral votes when the Vice President (acting as the President of the Senate) presides.\n",
      "Ideas for legislation can come from members, lobbyists, state legislatures, constituents, legislative counsel, or executive agencies. Anyone can write a bill, but only members of Congress may introduce bills. Most bills are not written by Congress members, but originate from the Executive branch; interest groups often draft bills as well. The usual next step is for the proposal to be passed to a committee for review.[1] A proposal is usually in one of these forms:\n",
      "Representatives introduce a bill while the House is in session by placing it in the hopper on the Clerk's desk.[107] It's assigned a number and referred to a committee which studies each bill intensely at this stage.[107] Drafting statutes requires \"great skill, knowledge, and experience\" and sometimes take a year or more.[1] Sometimes lobbyists write legislation and submit it to a member for introduction. Joint resolutions are the normal way to propose a constitutional amendment or declare war. On the other hand, concurrent resolutions (passed by both houses) and simple resolutions (passed by only one house) do not have the force of law but express the opinion of Congress or regulate procedure. Bills may be introduced by any member of either house. However, the Constitution states, \"All Bills for raising Revenue shall originate in the House of Representatives.\" While the Senate cannot originate revenue and appropriation bills, it has power to amend or reject them. Congress has sought ways to establish appropriate spending levels.[1]\n",
      "Each chamber determines its own internal rules of operation unless specified in the Constitution or prescribed by law. In the House, a Rules Committee guides legislation; in the Senate, a Standing Rules committee is in charge. Each branch has its own traditions; for example, the Senate relies heavily on the practice of getting \"unanimous consent\" for noncontroversial matters.[1] House and Senate rules can be complex, sometimes requiring a hundred specific steps before becoming a law.[2] Members sometimes use experts such as Walter Oleszek, a senior specialist in American national government at the Congressional Research Service, to learn about proper procedures.[119]\n",
      "Each bill goes through several stages in each house including consideration by a committee and advice from the Government Accountability Office.[1] Most legislation is considered by standing committees which have jurisdiction over a particular subject such as Agriculture or Appropriations. The House has twenty standing committees; the Senate has sixteen. Standing committees meet at least once each month.[1] Almost all standing committee meetings for transacting business must be open to the public unless the committee votes, publicly, to close the meeting.[1] A committee might call for public hearings on important bills.[1] Each committee is led by a chair who belongs to the majority party and a ranking member of the minority party. Witnesses and experts can present their case for or against a bill.[107] Then, a bill may go to what's called a mark-up session where committee members debate the bill's merits and may offer amendments or revisions.[107] Committees may also amend the bill, but the full house holds the power to accept or reject committee amendments. After debate, the committee votes whether it wishes to report the measure to the full house. If a bill is tabled then it is rejected. If amendments are extensive, sometimes a new bill with amendments built in will be submitted as a so-called clean bill with a new number.[107] Both houses have procedures under which committees can be bypassed or overruled but they are rarely used. Generally, members who have been in Congress longer have greater seniority and therefore greater power.[120]\n",
      "A bill which reaches the floor of the full house can be simple or complex[107] and begins with an enacting formula such as \"Be it enacted by the Senate and House of Representatives of the United States of America in Congress assembled.\" Consideration of a bill requires, itself, a rule which is a simple resolution specifying the particulars of debateâ€”time limits, possibility of further amendments, and such.[107] Each side has equal time and members can yield to other members who wish to speak.[107] Sometimes opponents seek to recommit a bill which means to change part of it.[107] Generally, discussion requires a quorum, usually half of the total number of representatives, before discussion can begin, although there are exceptions.[121] The house may debate and amend the bill; the precise procedures used by the House and Senate differ. A final vote on the bill follows.\n",
      "Once a bill is approved by one house, it is sent to the other which may pass, reject, or amend it. For the bill to become law, both houses must agree to identical versions of the bill.[107] If the second house amends the bill, then the differences between the two versions must be reconciled in a conference committee, an ad hoc committee that includes both senators and representatives[107] sometimes by using a reconciliation process to limit budget bills.[1] Both houses use a budget enforcement mechanism informally known as pay-as-you-go or paygo which discourages members from considering acts which increase budget deficits.[1] If both houses agree to the version reported by the conference committee, the bill passes, otherwise it fails.\n",
      "The Constitution specifies that a majority of members known as a quorum be present before doing business in each house. However, the rules of each house assume that a quorum is present unless a quorum call demonstrates the contrary. Since representatives and senators who are present rarely demand quorum calls, debate often continues despite the lack of a majority.\n",
      "Voting within Congress can take many forms, including systems using lights and bells and electronic voting.[1] Both houses use voice voting to decide most matters in which members shout \"aye\" or \"no\" and the presiding officer announces the result. The Constitution, however, requires a recorded vote if demanded by one-fifth of the members present. If the voice vote is unclear or if the matter is controversial, a recorded vote usually happens. The Senate uses roll-call voting, in which a clerk calls out the names of all the senators, each senator stating \"aye\" or \"no\" when their name is announced. In the Senate, the vice president may cast the tie-breaking vote if present.\n",
      "The House reserves roll-call votes for the most formal matters, as a roll call of all 435 representatives takes quite some time; normally, members vote by using an electronic device. In the case of a tie, the motion in question fails. Most votes in the House are done electronically, allowing members to vote yea or nay or present or open.[1] Members insert a voting ID card and can change their votes during the last five minutes if they choose; in addition, paper ballots are used on some occasionsâ€”yea indicated by green and nay by red.[1] One member can not cast a proxy vote for another.[1] Congressional votes are recorded on an online database.[122][123]\n",
      "After passage by both houses, a bill is enrolled and sent to the president for approval.[107] The president may sign it making it law or veto it, perhaps returning it to Congress with their objections. A vetoed bill can still become law if each house of Congress votes to override the veto with a two-thirds majority. Finally, the president may do nothing—neither signing nor vetoing the bill—and then the bill becomes law automatically after ten days (not counting Sundays) according to the Constitution. But if Congress is adjourned during this period, presidents may veto legislation passed at the end of a congressional session simply by ignoring it; the maneuver is known as a pocket veto, and cannot be overridden by the adjourned Congress.\n",
      "Senators face reelection every six years, and representatives every two. Reelections encourage candidates to focus their publicity efforts at their home states or districts.[54] Running for reelection can be a grueling process of distant travel and fund-raising which distracts senators and representatives from paying attention to governing, according to some critics[124] although others respond that the process is necessary to keep members of Congress in touch with voters.\n",
      "Nevertheless, incumbent members of Congress running for reelection have strong advantages over challengers.[42] They raise more money[47] because donors expect incumbents to win, they give their funds to them rather than challengers,[45][125] and donations are vital for winning elections.[126] One critic compared being elected to Congress to receiving life tenure at a university.[125] Another advantage for representatives is the practice of gerrymandering.[127][128] After each ten-year census, states are allocated representatives based on population, and officials in power can choose how to draw the congressional district boundaries to support candidates from their party. As a result, reelection rates of members of Congress hover around 90 percent,[6] causing some critics to accuse them of being a privileged class.[5] Academics such as Princeton's Stephen Macedo have proposed solutions to fix gerrymandering. Both senators and representatives enjoy free mailing privileges called franking privileges.\n",
      "In 1971, the cost of running for congress in Utah was $70,000[129] but costs have climbed.[130] The biggest expense is television ads.[46][125][129][131][132] Today's races cost more than a million dollars for a House seat, and six million or more for a Senate seat.[5][46][131][133][134] Since fundraising is vital, \"members of Congress are forced to spend ever-increasing hours raising money for their re-election.\"[135]\n",
      "Nevertheless, the Supreme Court has treated campaign contributions as a free speech issue.[130] Some see money as a good influence in politics since it \"enables candidates to communicate with voters.\"[130] Few members retire from Congress without complaining about how much it costs to campaign for reelection.[5] Critics contend that members of Congress are more likely to attend to the needs of heavy campaign contributors than to ordinary citizens.[5]\n",
      "Elections are influenced by many variables. Some political scientists speculate there is a coattail effect (when a popular president or party position has the effect of reelecting incumbents who win by \"riding on the president's coattails\"), although there is some evidence that the coattail effect is irregular and possibly declining since the 1950s.[42] Some districts are so heavily Democratic or Republican that they are called a safe seat; any candidate winning the primary will almost always be elected, and these candidates do not need to spend money on advertising.[136][137] But some races can be competitive when there is no incumbent. If a seat becomes vacant in an open district, then both parties may spend heavily on advertising in these races; in California in 1992, only four of twenty races for House seats were considered highly competitive.[138]\n",
      "Since members of Congress must advertise heavily on television, this usually involves negative advertising, which smears an opponent's character without focusing on the issues.[139] Negative advertising is seen as effective because \"the messages tend to stick.\"[140] However, these ads sour the public on the political process in general as most members of Congress seek to avoid blame.[141] One wrong decision or one damaging television image can mean defeat at the next election, which leads to a culture of risk avoidance, a need to make policy decisions behind closed doors,[141] and concentrating publicity efforts in the members' home districts.[54]\n",
      "Prominent Founding Fathers writing in The Federalist Papers felt that elections were essential to liberty, and that a bond between the people and the representatives was particularly essential[142] and that \"frequent elections are unquestionably the only policy by which this dependence and sympathy can be effectually secured.\"[142] In 2009, however, few Americans were familiar with leaders of Congress.[143][144][145] The percentage of Americans eligible to vote who did, in fact, vote was 63% in 1960, but has been falling since, although there was a slight upward trend in the 2008 election.[146] Public opinion polls asking people if they approve of the job Congress is doing have, in the last few decades, hovered around 25% with some variation.[5][147][148][149][150][151][152] Scholar Julian Zeliger suggested that the \"size, messiness, virtues, and vices that make Congress so interesting also create enormous barriers to our understanding the institution... Unlike the presidency, Congress is difficult to conceptualize.\"[153] Other scholars suggest that despite the criticism, \"Congress is a remarkably resilient institution ... its place in the political process is not threatened ... it is rich in resources\" and that most members behave ethically.[3] They contend that \"Congress is easy to dislike and often difficult to defend\" and this perception is exacerbated because many challengers running for Congress run against Congress, which is an \"old form of American politics\" that further undermines Congress's reputation with the public:[5]\n",
      "The rough-and-tumble world of legislating is not orderly and civil, human frailties too often taint its membership, and legislative outcomes are often frustrating and ineffective ... Still, we are not exaggerating when we say that Congress is essential to American democracy. We would not have survived as a nation without a Congress that represented the diverse interests of our society, conducted a public debate on the major issues, found compromises to resolve conflicts peacefully, and limited the power of our executive, military, and judicial institutions ... The popularity of Congress ebbs and flows with the public's confidence in government generally ... the legislative process is easy to dislike—it often generates political posturing and grandstanding, it necessarily involves compromise, and it often leaves broken promises in its trail. Also, members of Congress often appear self-serving as they pursue their political careers and represent interests and reflect values that are controversial. Scandals, even when they involve a single member, add to the public's frustration with Congress and have contributed to the institution's low ratings in opinion polls.—Smith, Roberts & Wielen[5]\n",
      "An additional factor that confounds public perceptions of Congress is that congressional issues are becoming more technical and complex and require expertise in subjects such as science, engineering and economics.[5] As a result, Congress often cedes authority to experts at the executive branch.[5]\n",
      "Since 2006, Congress has dropped 10 points in the Gallup confidence poll with only 9% having \"a great deal\" or \"quite a lot\" of confidence in their legislators.[154] Since 2011, Gallup poll has reported Congress's approval rating among Americans at 10% or below three times.[60][61] Public opinion of Congress plummeted further to 5% in October 2013 after parts of the U.S. government deemed 'nonessential government' shut down.[62]\n",
      "When the Constitution was ratified in 1787, the ratio of the populations of large states to small states was roughly twelve to one. The Connecticut Compromise gave every state, large and small, an equal vote in the Senate.[155] Since each state has two senators, residents of smaller states have more clout in the Senate than residents of larger states. But since 1787, the population disparity between large and small states has grown; in 2006, for example, California had seventy times the population of Wyoming.[156] Critics such as constitutional scholar Sanford Levinson have suggested that the population disparity works against residents of large states and causes a steady redistribution of resources from \"large states to small states.\"[157][158][159] However, others argue that the Connecticut compromise was deliberately intended by the Framers to construct the Senate so that each state had equal footing not based on population,[155] and contend that the result works well on balance.\n",
      "A major role for members of Congress is providing services to constituents.[160] Constituents request assistance with problems.[161] Providing services helps members of Congress win votes and elections[127][162][163] and can make a difference in close races.[164] Congressional staff can help citizens navigate government bureaucracies.[2] One academic described the complex intertwined relation between lawmakers and constituents as home style.[165]:8\n",
      "One way to categorize lawmakers, according to political scientist Richard Fenno, is by their general motivation:\n",
      "Members of Congress enjoy parliamentary privilege, including freedom from arrest in all cases except for treason, felony, and breach of the peace and freedom of speech in debate. This constitutionally derived immunity applies to members during sessions and when traveling to and from sessions.[166] The term arrest has been interpreted broadly, and includes any detention or delay in the course of law enforcement, including court summons and subpoenas. The rules of the House strictly guard this privilege; a member may not waive the privilege on their own, but must seek the permission of the whole house to do so. Senate rules, however, are less strict and permit individual senators to waive the privilege as they choose.\n",
      "The Constitution guarantees absolute freedom of debate in both houses, providing in the Speech or Debate Clause of the Constitution that \"for any Speech or Debate in either House, they shall not be questioned in any other Place.\" Accordingly, a member of Congress may not be sued in court for slander because of remarks made in either house, although each house has its own rules restricting offensive speeches, and may punish members who transgress.\n",
      "Obstructing the work of Congress is a crime under federal law and is known as contempt of Congress. Each branch has the power to cite individuals for contempt but can only issue a contempt citationâ€”the judicial system pursues the matter like a normal criminal case. If convicted in court, an individual found guilty of contempt of Congress may be imprisoned for up to one year.\n",
      "The franking privilege allows members of Congress to send official mail to constituents at government expense. Though they are not permitted to send election materials, borderline material is often sent, especially in the run-up to an election by those in close races.[167][168] Indeed, some academics consider free mailings as giving incumbents a big advantage over challengers.[6][169]\n",
      "From 1789 to 1815, members of Congress received only a daily payment of $6 while in session. Members received an annual salary of $1,500 per year from 1815 to 1817, then a per diem salary of $8 from 1818 to 1855; since then they have received an annual salary, first pegged in 1855 at $3,000.[170][171] In 1907, salaries were raised to $7,500 per year, the equivalent of $173,000 in 2010.[171] In 2006, members of Congress received a yearly salary of $165,200.[171] Congressional leaders were paid $183,500 per year. The Speaker of the House of Representatives earns $212,100 annually. The salary of the President pro tempore for 2006 was $183,500, equal to that of the majority and minority leaders of the House and Senate.[172] Privileges include having an office and paid staff.[120] In 2008, non-officer members of Congress earned $169,300 annually.[147] Some critics complain congressional pay is high compared with a median American income of $45,113 for men and $35,102 for women.[173] Others have countered that congressional pay is consistent with other branches of government.[147] In January 2014, it was reported that for the first time over half of the members of Congress were millionaires.[174] Congress has been criticized for trying to conceal pay raises by slipping them into a large bill at the last minute.[175] Others have criticized the wealth of members of Congress.[129][132] Representative Jim Cooper of Tennessee told Harvard professor Lawrence Lessig that a chief problem with Congress was that members focused on lucrative careers as lobbyists after serving––that Congress was a \"Farm League for K Street\"––instead of on public service.[176][177]\n",
      "Members elected since 1984 are covered by the Federal Employees Retirement System (FERS). Like other federal employees, congressional retirement is funded through taxes and participants' contributions. Members of Congress under FERS contribute 1.3% of their salary into the FERS retirement plan and pay 6.2% of their salary in Social Security taxes. And like Federal employees, members contribute one-third of the cost of health insurance with the government covering the other two-thirds.[178]\n",
      "The size of a congressional pension depends on the years of service and the average of the highest three years of their salary. By law, the starting amount of a member's retirement annuity may not exceed 80% of their final salary. In 2006, the average annual pension for retired senators and representatives under the Civil Service Retirement System (CSRS) was $60,972, while those who retired under FERS, or in combination with CSRS, was $35,952.[179]\n",
      "Members of Congress make fact-finding missions to learn about other countries and stay informed, but these outings can cause controversy if the trip is deemed excessive or unconnected with the task of governing. For example, the Wall Street Journal reported in 2009 that lawmaker trips abroad at taxpayer expense had included spas, $300-per-night extra unused rooms, and shopping excursions.[180] Lawmakers respond that \"traveling with spouses compensates for being away from them a lot in Washington\" and justify the trips as a way to meet officials in other nations.[180]\n"
     ]
    }
   ],
   "source": [
    "for i, j in zip(y[\"candidates\"].values[0], y[\"passage_types\"].values[0]):\n",
    "    if j == \"text\":\n",
    "        print(i)"
   ]
  },
  {
   "cell_type": "code",
   "execution_count": 38,
   "id": "d645428a-08ef-49e0-9f43-9e473e9bc918",
   "metadata": {},
   "outputs": [],
   "source": [
    "bool_long_answers = nq_raw[\"long_answers\"].map(bool)"
   ]
  },
  {
   "cell_type": "code",
   "execution_count": 41,
   "id": "ce569f2d-ec2a-4d74-9456-4dc23db9d33b",
   "metadata": {},
   "outputs": [
    {
     "data": {
      "text/html": [
       "<div>\n",
       "<style scoped>\n",
       "    .dataframe tbody tr th:only-of-type {\n",
       "        vertical-align: middle;\n",
       "    }\n",
       "\n",
       "    .dataframe tbody tr th {\n",
       "        vertical-align: top;\n",
       "    }\n",
       "\n",
       "    .dataframe thead th {\n",
       "        text-align: right;\n",
       "    }\n",
       "</style>\n",
       "<table border=\"1\" class=\"dataframe\">\n",
       "  <thead>\n",
       "    <tr style=\"text-align: right;\">\n",
       "      <th></th>\n",
       "      <th>question</th>\n",
       "      <th>title</th>\n",
       "      <th>candidates</th>\n",
       "      <th>passage_types</th>\n",
       "      <th>long_answers</th>\n",
       "    </tr>\n",
       "  </thead>\n",
       "  <tbody>\n",
       "    <tr>\n",
       "      <th>1</th>\n",
       "      <td>when did richmond last play in a preliminary f...</td>\n",
       "      <td>Richmond Football Club</td>\n",
       "      <td>[Richmond Football Club\\n\\n\\n\\n\\n\\nNames\\n\\n\\n...</td>\n",
       "      <td>[table, table, table, table, table, table, tab...</td>\n",
       "      <td>[77]</td>\n",
       "    </tr>\n",
       "    <tr>\n",
       "      <th>2</th>\n",
       "      <td>who sang what in the world's come over you</td>\n",
       "      <td>Jack Scott (singer)</td>\n",
       "      <td>[Jack Scott\\n\\n\\nBirth name\\nGiovanni Domenico...</td>\n",
       "      <td>[table, table, table, table, table, table, tab...</td>\n",
       "      <td>[14]</td>\n",
       "    </tr>\n",
       "    <tr>\n",
       "      <th>3</th>\n",
       "      <td>who produces the most wool in the world</td>\n",
       "      <td>Wool</td>\n",
       "      <td>[The examples and perspective in this article ...</td>\n",
       "      <td>[table, table, text, text, text, text, text, t...</td>\n",
       "      <td>[58]</td>\n",
       "    </tr>\n",
       "    <tr>\n",
       "      <th>4</th>\n",
       "      <td>where does alaska the last frontier take place</td>\n",
       "      <td>Alaska: The Last Frontier</td>\n",
       "      <td>[Alaska: The Last Frontier\\nTitle card (Season...</td>\n",
       "      <td>[table, table, table, table, table, table, tab...</td>\n",
       "      <td>[23]</td>\n",
       "    </tr>\n",
       "    <tr>\n",
       "      <th>6</th>\n",
       "      <td>a day to remember all i want cameos</td>\n",
       "      <td>All I Want (A Day to Remember song)</td>\n",
       "      <td>[\"All I Want\"\\n\\n\\n\\nIllustration by Mike C. H...</td>\n",
       "      <td>[table, table, table, table, table, table, tab...</td>\n",
       "      <td>[35]</td>\n",
       "    </tr>\n",
       "    <tr>\n",
       "      <th>...</th>\n",
       "      <td>...</td>\n",
       "      <td>...</td>\n",
       "      <td>...</td>\n",
       "      <td>...</td>\n",
       "      <td>...</td>\n",
       "    </tr>\n",
       "    <tr>\n",
       "      <th>307362</th>\n",
       "      <td>when does new dragon ball super episode air</td>\n",
       "      <td>List of Dragon Ball Super episodes</td>\n",
       "      <td>[Dragon Ball Super is a Japanese anime televis...</td>\n",
       "      <td>[text, text, text, text, table, table, table, ...</td>\n",
       "      <td>[4]</td>\n",
       "    </tr>\n",
       "    <tr>\n",
       "      <th>307363</th>\n",
       "      <td>who plays penny's father on big bang</td>\n",
       "      <td>Keith Carradine</td>\n",
       "      <td>[Keith Carradine\\n\\n\\n\\nCarradine at the 2006 ...</td>\n",
       "      <td>[table, table, table, table, table, table, tab...</td>\n",
       "      <td>[23]</td>\n",
       "    </tr>\n",
       "    <tr>\n",
       "      <th>307365</th>\n",
       "      <td>who played lulu hogg on dukes of hazzard</td>\n",
       "      <td>Peggy Rea</td>\n",
       "      <td>[Peggy Rea\\n\\n\\nBorn\\nPeggy Jane Rea\\n(1921-03...</td>\n",
       "      <td>[table, table, table, table, table, table, tex...</td>\n",
       "      <td>[9]</td>\n",
       "    </tr>\n",
       "    <tr>\n",
       "      <th>307368</th>\n",
       "      <td>when did india last win the world cup in hockey</td>\n",
       "      <td>Hockey World Cup</td>\n",
       "      <td>[Men's Hockey World Cup\\n\\nCurrent season, com...</td>\n",
       "      <td>[table, table, table, table, table, table, tab...</td>\n",
       "      <td>[22]</td>\n",
       "    </tr>\n",
       "    <tr>\n",
       "      <th>307370</th>\n",
       "      <td>where did the east india company set up its fi...</td>\n",
       "      <td>East India Company</td>\n",
       "      <td>[East India Company (EIC)\\n\\n\\nCompany flag (1...</td>\n",
       "      <td>[table, table, table, table, table, table, tab...</td>\n",
       "      <td>[40]</td>\n",
       "    </tr>\n",
       "  </tbody>\n",
       "</table>\n",
       "<p>132803 rows × 5 columns</p>\n",
       "</div>"
      ],
      "text/plain": [
       "                                                 question  \\\n",
       "1       when did richmond last play in a preliminary f...   \n",
       "2              who sang what in the world's come over you   \n",
       "3                 who produces the most wool in the world   \n",
       "4          where does alaska the last frontier take place   \n",
       "6                     a day to remember all i want cameos   \n",
       "...                                                   ...   \n",
       "307362        when does new dragon ball super episode air   \n",
       "307363               who plays penny's father on big bang   \n",
       "307365           who played lulu hogg on dukes of hazzard   \n",
       "307368    when did india last win the world cup in hockey   \n",
       "307370  where did the east india company set up its fi...   \n",
       "\n",
       "                                      title  \\\n",
       "1                    Richmond Football Club   \n",
       "2                       Jack Scott (singer)   \n",
       "3                                      Wool   \n",
       "4                 Alaska: The Last Frontier   \n",
       "6       All I Want (A Day to Remember song)   \n",
       "...                                     ...   \n",
       "307362   List of Dragon Ball Super episodes   \n",
       "307363                      Keith Carradine   \n",
       "307365                            Peggy Rea   \n",
       "307368                     Hockey World Cup   \n",
       "307370                   East India Company   \n",
       "\n",
       "                                               candidates  \\\n",
       "1       [Richmond Football Club\\n\\n\\n\\n\\n\\nNames\\n\\n\\n...   \n",
       "2       [Jack Scott\\n\\n\\nBirth name\\nGiovanni Domenico...   \n",
       "3       [The examples and perspective in this article ...   \n",
       "4       [Alaska: The Last Frontier\\nTitle card (Season...   \n",
       "6       [\"All I Want\"\\n\\n\\n\\nIllustration by Mike C. H...   \n",
       "...                                                   ...   \n",
       "307362  [Dragon Ball Super is a Japanese anime televis...   \n",
       "307363  [Keith Carradine\\n\\n\\n\\nCarradine at the 2006 ...   \n",
       "307365  [Peggy Rea\\n\\n\\nBorn\\nPeggy Jane Rea\\n(1921-03...   \n",
       "307368  [Men's Hockey World Cup\\n\\nCurrent season, com...   \n",
       "307370  [East India Company (EIC)\\n\\n\\nCompany flag (1...   \n",
       "\n",
       "                                            passage_types long_answers  \n",
       "1       [table, table, table, table, table, table, tab...         [77]  \n",
       "2       [table, table, table, table, table, table, tab...         [14]  \n",
       "3       [table, table, text, text, text, text, text, t...         [58]  \n",
       "4       [table, table, table, table, table, table, tab...         [23]  \n",
       "6       [table, table, table, table, table, table, tab...         [35]  \n",
       "...                                                   ...          ...  \n",
       "307362  [text, text, text, text, table, table, table, ...          [4]  \n",
       "307363  [table, table, table, table, table, table, tab...         [23]  \n",
       "307365  [table, table, table, table, table, table, tex...          [9]  \n",
       "307368  [table, table, table, table, table, table, tab...         [22]  \n",
       "307370  [table, table, table, table, table, table, tab...         [40]  \n",
       "\n",
       "[132803 rows x 5 columns]"
      ]
     },
     "execution_count": 41,
     "metadata": {},
     "output_type": "execute_result"
    }
   ],
   "source": [
    "nq_raw[bool_long_answers.values]"
   ]
  },
  {
   "cell_type": "code",
   "execution_count": null,
   "id": "ad4d12db-42a0-4fba-9bef-5928dfa0232e",
   "metadata": {},
   "outputs": [],
   "source": []
  }
 ],
 "metadata": {
  "kernelspec": {
   "display_name": "sgt",
   "language": "python",
   "name": "sgt"
  },
  "language_info": {
   "codemirror_mode": {
    "name": "ipython",
    "version": 3
   },
   "file_extension": ".py",
   "mimetype": "text/x-python",
   "name": "python",
   "nbconvert_exporter": "python",
   "pygments_lexer": "ipython3",
   "version": "3.9.13"
  }
 },
 "nbformat": 4,
 "nbformat_minor": 5
}
